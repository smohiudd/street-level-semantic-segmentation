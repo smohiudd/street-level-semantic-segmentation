{
 "cells": [
  {
   "cell_type": "code",
   "execution_count": 1,
   "metadata": {},
   "outputs": [],
   "source": [
    "from PIL import Image, ImageDraw\n",
    "import xml.etree.ElementTree as ET\n",
    "import os\n",
    "import glob"
   ]
  },
  {
   "cell_type": "code",
   "execution_count": 2,
   "metadata": {},
   "outputs": [],
   "source": [
    "os.chdir(\"export\")\n",
    "images = glob.glob(\"*.jpeg\")\n",
    "xml_mask = glob.glob(\"*.xml\")"
   ]
  },
  {
   "cell_type": "code",
   "execution_count": 3,
   "metadata": {},
   "outputs": [],
   "source": [
    "classes = {\n",
    "  \"tree\":(1,1,1),\n",
    "  \"landscaping\":(2,2,2),\n",
    "  \"road\":(3,3,3),\n",
    "  \"sidewalk\":(4,4,4),\n",
    "  \"building\":(5,5,5),\n",
    "  \"sky\":(6,6,6),\n",
    "  \"concrete\":(7,7,7)\n",
    "}\n"
   ]
  },
  {
   "cell_type": "code",
   "execution_count": 4,
   "metadata": {},
   "outputs": [],
   "source": [
    "for mask in xml_mask:\n",
    "    \n",
    "    root = ET.parse(mask).getroot()\n",
    "\n",
    "    width = int(root.find(\"size\").find(\"width\").text)\n",
    "    height = int(root.find(\"size\").find(\"height\").text)\n",
    "\n",
    "    img = Image.new(\"RGB\", (width*2, height*2), 0)\n",
    "\n",
    "    for objects in root.findall(\"object\"):\n",
    "\n",
    "      object_class = classes[objects.find(\"name\").text]\n",
    "\n",
    "      for object in objects.findall('polygon'):\n",
    "        points=[]\n",
    "        for element in object.findall('*'):\n",
    "            points.append(element.tag)\n",
    "        \n",
    "        polygon = []        \n",
    "        for point in range(0, len(points) - 1, 2):\n",
    "            x = int(object.find(points[point]).text)*2\n",
    "            y = int(object.find(points[point + 1]).text)*2\n",
    "            point = (x,y)\n",
    "            polygon.append(point)\n",
    "        ImageDraw.Draw(img).polygon(polygon, fill=object_class,outline=object_class)\n",
    "\n",
    "        \n",
    "    imagepath = \"masks\"\n",
    "    \n",
    "    try: \n",
    "        os.makedirs(imagepath)\n",
    "    except OSError:\n",
    "        if not os.path.isdir(imagepath):\n",
    "            raise\n",
    "    img = img.resize((width, height), Image.ANTIALIAS)\n",
    "    img.save(imagepath+\"/\"+mask.split(\".\")[0]+\".png\",\"PNG\")"
   ]
  },
  {
   "cell_type": "code",
   "execution_count": null,
   "metadata": {},
   "outputs": [],
   "source": []
  },
  {
   "cell_type": "code",
   "execution_count": null,
   "metadata": {},
   "outputs": [],
   "source": []
  }
 ],
 "metadata": {
  "kernelspec": {
   "display_name": "Python 2",
   "language": "python",
   "name": "python2"
  },
  "language_info": {
   "codemirror_mode": {
    "name": "ipython",
    "version": 2
   },
   "file_extension": ".py",
   "mimetype": "text/x-python",
   "name": "python",
   "nbconvert_exporter": "python",
   "pygments_lexer": "ipython2",
   "version": "2.7.15"
  }
 },
 "nbformat": 4,
 "nbformat_minor": 2
}
